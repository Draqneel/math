{
 "cells": [
  {
   "cell_type": "code",
   "execution_count": 5,
   "metadata": {},
   "outputs": [
    {
     "name": "stdout",
     "output_type": "stream",
     "text": [
      "Дисперсия:  10.0\n",
      "Среднеквадратичное отклонение:  3.1622776601683795\n"
     ]
    }
   ],
   "source": [
    "# Дисперсия равна сумме разностей всех квадратичных отклонений, поделенных на n - 1 (для выборки)\n",
    "# n - длина выборки, либо же на n для всех возможных значений\n",
    "# ~ sqrt(Дисперсии) == SK == среднеквадратичное отклонение\n",
    "\n",
    "ls = [1, 5, 2, 7, 1, 9, 3, 8, 5, 9]\n",
    "\n",
    "mid_val = sum(ls) / len(ls)\n",
    "\n",
    "sum_exp = 0 \n",
    "\n",
    "for item in ls:\n",
    "    sum_exp += (item - mid_val) ** 2\n",
    "    \n",
    "disp = sum_exp / (len(ls) - 1)\n",
    "\n",
    "print(\"Дисперсия: \", disp)\n",
    "\n",
    "print(\"Среднеквадратичное отклонение: \", disp ** (1/2))"
   ]
  },
  {
   "cell_type": "code",
   "execution_count": null,
   "metadata": {},
   "outputs": [],
   "source": []
  },
  {
   "cell_type": "code",
   "execution_count": null,
   "metadata": {},
   "outputs": [],
   "source": []
  },
  {
   "cell_type": "code",
   "execution_count": null,
   "metadata": {},
   "outputs": [],
   "source": []
  }
 ],
 "metadata": {
  "kernelspec": {
   "display_name": "Python 3",
   "language": "python",
   "name": "python3"
  },
  "language_info": {
   "codemirror_mode": {
    "name": "ipython",
    "version": 3
   },
   "file_extension": ".py",
   "mimetype": "text/x-python",
   "name": "python",
   "nbconvert_exporter": "python",
   "pygments_lexer": "ipython3",
   "version": "3.7.5"
  }
 },
 "nbformat": 4,
 "nbformat_minor": 2
}
