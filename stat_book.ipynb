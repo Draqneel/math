{
 "cells": [
  {
   "cell_type": "code",
   "execution_count": 5,
   "metadata": {},
   "outputs": [
    {
     "name": "stdout",
     "output_type": "stream",
     "text": [
      "Среднее:  5.0\n",
      "Сумма квадратов:  90.0\n",
      "Дисперсия:  10.0\n",
      "Среднеквадратичное отклонение:  3.1622776601683795\n"
     ]
    }
   ],
   "source": [
    "ls = [1, 5, 2, 7, 1, 9, 3, 8, 5, 9]\n",
    "\n",
    "mid_val = sum(ls) / len(ls)\n",
    "\n",
    "print(\"Среднее: \", mid_val)\n",
    "\n",
    "sum_exp = 0 \n",
    "\n",
    "for item in ls:\n",
    "    sum_exp += (item - mid_val) ** 2\n",
    "    \n",
    "print(\"Сумма квадратов: \", sum_exp)\n",
    "\n",
    "disp = sum_exp / (len(ls) - 1)\n",
    "\n",
    "print(\"Дисперсия: \", disp)\n",
    "\n",
    "print(\"Среднеквадратичное отклонение: \", disp ** (1/2))"
   ]
  },
  {
   "cell_type": "code",
   "execution_count": null,
   "metadata": {},
   "outputs": [],
   "source": []
  }
 ],
 "metadata": {
  "kernelspec": {
   "display_name": "Python 3",
   "language": "python",
   "name": "python3"
  },
  "language_info": {
   "codemirror_mode": {
    "name": "ipython",
    "version": 3
   },
   "file_extension": ".py",
   "mimetype": "text/x-python",
   "name": "python",
   "nbconvert_exporter": "python",
   "pygments_lexer": "ipython3",
   "version": "3.7.5"
  }
 },
 "nbformat": 4,
 "nbformat_minor": 2
}
